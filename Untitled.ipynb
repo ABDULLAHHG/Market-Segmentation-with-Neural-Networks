{
 "cells": [
  {
   "cell_type": "code",
   "execution_count": 138,
   "id": "d9cd77b6",
   "metadata": {},
   "outputs": [],
   "source": [
    "import pandas as pd \n",
    "import numpy as np \n"
   ]
  },
  {
   "cell_type": "code",
   "execution_count": 139,
   "id": "4717deac",
   "metadata": {},
   "outputs": [],
   "source": [
    "df = pd.read_csv(\"bank-additional-full.csv\" , delimiter = \";\")"
   ]
  },
  {
   "cell_type": "code",
   "execution_count": 140,
   "id": "b2064fa9-d893-4b97-8ff8-1c194a8c7b47",
   "metadata": {},
   "outputs": [
    {
     "name": "stdout",
     "output_type": "stream",
     "text": [
      "﻿Citation Request:\n",
      "  This dataset is publicly available for research. The details are described in [Moro et al., 2014]. \n",
      "  Please include this citation if you plan to use this database:\n",
      "\n",
      "  [Moro et al., 2014] S. Moro, P. Cortez and P. Rita. A Data-Driven Approach to Predict the Success of Bank Telemarketing. Decision Support Systems, In press, http://dx.doi.org/10.1016/j.dss.2014.03.001\n",
      "\n",
      "  Available at: [pdf] http://dx.doi.org/10.1016/j.dss.2014.03.001\n",
      "                [bib] http://www3.dsi.uminho.pt/pcortez/bib/2014-dss.txt\n",
      "\n",
      "1. Title: Bank Marketing (with social/economic context)\n",
      "\n",
      "2. Sources\n",
      "   Created by: Sérgio Moro (ISCTE-IUL), Paulo Cortez (Univ. Minho) and Paulo Rita (ISCTE-IUL) @ 2014\n",
      "   \n",
      "3. Past Usage:\n",
      "\n",
      "  The full dataset (bank-additional-full.csv) was described and analyzed in:\n",
      "\n",
      "  S. Moro, P. Cortez and P. Rita. A Data-Driven Approach to Predict the Success of Bank Telemarketing. Decision Support Systems (2014), doi:10.1016/j.dss.2014.03.001.\n",
      " \n",
      "4. Relevant Information:\n",
      "\n",
      "   This dataset is based on \"Bank Marketing\" UCI dataset (please check the description at: http://archive.ics.uci.edu/ml/datasets/Bank+Marketing).\n",
      "   The data is enriched by the addition of five new social and economic features/attributes (national wide indicators from a ~10M population country), published by the Banco de Portugal and publicly available at: https://www.bportugal.pt/estatisticasweb.\n",
      "   This dataset is almost identical to the one used in [Moro et al., 2014] (it does not include all attributes due to privacy concerns). \n",
      "   Using the rminer package and R tool (http://cran.r-project.org/web/packages/rminer/), we found that the addition of the five new social and economic attributes (made available here) lead to substantial improvement in the prediction of a success, even when the duration of the call is not included. Note: the file can be read in R using: d=read.table(\"bank-additional-full.csv\",header=TRUE,sep=\";\")\n",
      "   \n",
      "   The zip file includes two datasets: \n",
      "      1) bank-additional-full.csv with all examples, ordered by date (from May 2008 to November 2010).\n",
      "      2) bank-additional.csv with 10% of the examples (4119), randomly selected from bank-additional-full.csv.\n",
      "   The smallest dataset is provided to test more computationally demanding machine learning algorithms (e.g., SVM).\n",
      "\n",
      "   The binary classification goal is to predict if the client will subscribe a bank term deposit (variable y).\n",
      "\n",
      "5. Number of Instances: 41188 for bank-additional-full.csv\n",
      "\n",
      "6. Number of Attributes: 20 + output attribute.\n",
      "\n",
      "7. Attribute information:\n",
      "\n",
      "   For more information, read [Moro et al., 2014].\n",
      "\n",
      "   Input variables:\n",
      "   # bank client data:\n",
      "   1 - age (numeric)\n",
      "   2 - job : type of job (categorical: \"admin.\",\"blue-collar\",\"entrepreneur\",\"housemaid\",\"management\",\"retired\",\"self-employed\",\"services\",\"student\",\"technician\",\"unemployed\",\"unknown\")\n",
      "   3 - marital : marital status (categorical: \"divorced\",\"married\",\"single\",\"unknown\"; note: \"divorced\" means divorced or widowed)\n",
      "   4 - education (categorical: \"basic.4y\",\"basic.6y\",\"basic.9y\",\"high.school\",\"illiterate\",\"professional.course\",\"university.degree\",\"unknown\")\n",
      "   5 - default: has credit in default? (categorical: \"no\",\"yes\",\"unknown\")\n",
      "   6 - housing: has housing loan? (categorical: \"no\",\"yes\",\"unknown\")\n",
      "   7 - loan: has personal loan? (categorical: \"no\",\"yes\",\"unknown\")\n",
      "   # related with the last contact of the current campaign:\n",
      "   8 - contact: contact communication type (categorical: \"cellular\",\"telephone\") \n",
      "   9 - month: last contact month of year (categorical: \"jan\", \"feb\", \"mar\", ..., \"nov\", \"dec\")\n",
      "  10 - day_of_week: last contact day of the week (categorical: \"mon\",\"tue\",\"wed\",\"thu\",\"fri\")\n",
      "  11 - duration: last contact duration, in seconds (numeric). Important note:  this attribute highly affects the output target (e.g., if duration=0 then y=\"no\"). Yet, the duration is not known before a call is performed. Also, after the end of the call y is obviously known. Thus, this input should only be included for benchmark purposes and should be discarded if the intention is to have a realistic predictive model.\n",
      "   # other attributes:\n",
      "  12 - campaign: number of contacts performed during this campaign and for this client (numeric, includes last contact)\n",
      "  13 - pdays: number of days that passed by after the client was last contacted from a previous campaign (numeric; 999 means client was not previously contacted)\n",
      "  14 - previous: number of contacts performed before this campaign and for this client (numeric)\n",
      "  15 - poutcome: outcome of the previous marketing campaign (categorical: \"failure\",\"nonexistent\",\"success\")\n",
      "   # social and economic context attributes\n",
      "  16 - emp.var.rate: employment variation rate - quarterly indicator (numeric)\n",
      "  17 - cons.price.idx: consumer price index - monthly indicator (numeric)     \n",
      "  18 - cons.conf.idx: consumer confidence index - monthly indicator (numeric)     \n",
      "  19 - euribor3m: euribor 3 month rate - daily indicator (numeric)\n",
      "  20 - nr.employed: number of employees - quarterly indicator (numeric)\n",
      "\n",
      "  Output variable (desired target):\n",
      "  21 - y - has the client subscribed a term deposit? (binary: \"yes\",\"no\")\n",
      "\n",
      "8. Missing Attribute Values: There are several missing values in some categorical attributes, all coded with the \"unknown\" label. These missing values can be treated as a possible class label or using deletion or imputation techniques. \n",
      "\n"
     ]
    }
   ],
   "source": [
    "# let see what we have on another file \n",
    "with open(\"bank-additional-names.txt\") as f:\n",
    "    print(f.read())"
   ]
  },
  {
   "cell_type": "code",
   "execution_count": 141,
   "id": "1f4abc4c-2c78-4803-a956-21e3acb76b49",
   "metadata": {},
   "outputs": [
    {
     "ename": "SyntaxError",
     "evalue": "invalid syntax (374347020.py, line 1)",
     "output_type": "error",
     "traceback": [
      "\u001b[0;36m  Cell \u001b[0;32mIn[141], line 1\u001b[0;36m\u001b[0m\n\u001b[0;31m    ( < (df == 'unknown').sum())\u001b[0m\n\u001b[0m      ^\u001b[0m\n\u001b[0;31mSyntaxError\u001b[0m\u001b[0;31m:\u001b[0m invalid syntax\n"
     ]
    }
   ],
   "source": [
    "( < (df == 'unknown').sum())"
   ]
  },
  {
   "cell_type": "code",
   "execution_count": 142,
   "id": "72b1dc56",
   "metadata": {},
   "outputs": [
    {
     "data": {
      "text/plain": [
       "age               0.000000\n",
       "job               0.008012\n",
       "marital           0.001942\n",
       "education         0.042027\n",
       "default           0.208726\n",
       "housing           0.024036\n",
       "loan              0.024036\n",
       "contact           0.000000\n",
       "month             0.000000\n",
       "day_of_week       0.000000\n",
       "duration          0.000000\n",
       "campaign          0.000000\n",
       "pdays             0.000000\n",
       "previous          0.000000\n",
       "poutcome          0.000000\n",
       "emp.var.rate      0.000000\n",
       "cons.price.idx    0.000000\n",
       "cons.conf.idx     0.000000\n",
       "euribor3m         0.000000\n",
       "nr.employed       0.000000\n",
       "y                 0.000000\n",
       "dtype: float64"
      ]
     },
     "execution_count": 142,
     "metadata": {},
     "output_type": "execute_result"
    }
   ],
   "source": [
    "((df == 'unknown').sum() / df.shape[0]) "
   ]
  },
  {
   "cell_type": "code",
   "execution_count": 143,
   "id": "d476ff62",
   "metadata": {},
   "outputs": [
    {
     "data": {
      "text/plain": [
       "10700"
      ]
     },
     "execution_count": 143,
     "metadata": {},
     "output_type": "execute_result"
    }
   ],
   "source": [
    "(df == 'unknown').any(axis=1).sum() # so there is about 10700 rows that we may drop them "
   ]
  },
  {
   "cell_type": "code",
   "execution_count": 144,
   "id": "5e8f18a7",
   "metadata": {},
   "outputs": [],
   "source": [
    "# let fillna the nan values of some columns that has less nan values\n",
    "nans = ((df == 'unknown').sum() / df.shape[0])\n",
    "columns2fillna = nans[(0.2 > nans) &  (nans > 0)].index\n",
    "for col in columns2fillna:\n",
    "    df[col] = df[col].replace({\"unknown\" : df[col].mode()[0]})"
   ]
  },
  {
   "cell_type": "code",
   "execution_count": 145,
   "id": "235e8a3b",
   "metadata": {},
   "outputs": [
    {
     "data": {
      "text/plain": [
       "age               0.000000\n",
       "job               0.000000\n",
       "marital           0.000000\n",
       "education         0.000000\n",
       "default           0.208726\n",
       "housing           0.000000\n",
       "loan              0.000000\n",
       "contact           0.000000\n",
       "month             0.000000\n",
       "day_of_week       0.000000\n",
       "duration          0.000000\n",
       "campaign          0.000000\n",
       "pdays             0.000000\n",
       "previous          0.000000\n",
       "poutcome          0.000000\n",
       "emp.var.rate      0.000000\n",
       "cons.price.idx    0.000000\n",
       "cons.conf.idx     0.000000\n",
       "euribor3m         0.000000\n",
       "nr.employed       0.000000\n",
       "y                 0.000000\n",
       "dtype: float64"
      ]
     },
     "execution_count": 145,
     "metadata": {},
     "output_type": "execute_result"
    }
   ],
   "source": [
    "((df == 'unknown').sum() / df.shape[0]) "
   ]
  },
  {
   "cell_type": "code",
   "execution_count": 146,
   "id": "e53cbf3b",
   "metadata": {},
   "outputs": [
    {
     "data": {
      "text/plain": [
       "8597"
      ]
     },
     "execution_count": 146,
     "metadata": {},
     "output_type": "execute_result"
    }
   ],
   "source": [
    "(df == 'unknown').any(axis=1).sum()\n",
    "# now we can only drop 8597 i think its batter to drop them \n",
    "# cause its too much to fillna 20% of rows with mode \n",
    "# we can use another algorithm or \n",
    "# fillna with the value that in previouse row \n",
    "# but we will only drop them "
   ]
  },
  {
   "cell_type": "code",
   "execution_count": 147,
   "id": "cc60fc0b",
   "metadata": {},
   "outputs": [],
   "source": [
    "df[\"default\"] = df[\"default\"].replace({\"unknown\" : np.nan})\n",
    "df = df.dropna()"
   ]
  },
  {
   "cell_type": "code",
   "execution_count": 148,
   "id": "bf624452",
   "metadata": {},
   "outputs": [
    {
     "data": {
      "text/plain": [
       "0"
      ]
     },
     "execution_count": 148,
     "metadata": {},
     "output_type": "execute_result"
    }
   ],
   "source": [
    "(df == 'unknown').any(axis=1).sum()"
   ]
  },
  {
   "cell_type": "code",
   "execution_count": 149,
   "id": "2afa60e9",
   "metadata": {},
   "outputs": [
    {
     "name": "stdout",
     "output_type": "stream",
     "text": [
      "Number of unique values in column age is : 77\n",
      "Number of unique values in column job is : 11\n",
      "Number of unique values in column marital is : 3\n",
      "Number of unique values in column education is : 7\n",
      "Number of unique values in column default is : 2\n",
      "Number of unique values in column housing is : 2\n",
      "Number of unique values in column loan is : 2\n",
      "Number of unique values in column contact is : 2\n",
      "Number of unique values in column month is : 10\n",
      "Number of unique values in column day_of_week is : 5\n",
      "Number of unique values in column duration is : 1464\n",
      "Number of unique values in column campaign is : 41\n",
      "Number of unique values in column pdays is : 27\n",
      "Number of unique values in column previous is : 8\n",
      "Number of unique values in column poutcome is : 3\n",
      "Number of unique values in column emp.var.rate is : 10\n",
      "Number of unique values in column cons.price.idx is : 26\n",
      "Number of unique values in column cons.conf.idx is : 26\n",
      "Number of unique values in column euribor3m is : 316\n",
      "Number of unique values in column nr.employed is : 11\n",
      "Number of unique values in column y is : 2\n"
     ]
    }
   ],
   "source": [
    "# let see how many unique value in each column\n",
    "for col in df.columns:\n",
    "    print(f\"Number of unique values in column {col} is : {df[col].nunique()}\")"
   ]
  },
  {
   "cell_type": "markdown",
   "id": "a9ac80b4-0ba0-405e-b3e8-f96bcddc140e",
   "metadata": {},
   "source": [
    "# preprocessing "
   ]
  },
  {
   "cell_type": "code",
   "execution_count": 150,
   "id": "3376e68e",
   "metadata": {},
   "outputs": [],
   "source": [
    "data = df.copy()"
   ]
  },
  {
   "cell_type": "code",
   "execution_count": 151,
   "id": "ae330fc7",
   "metadata": {},
   "outputs": [],
   "source": [
    "for col in df.columns:\n",
    "    if data[col].nunique() == 2:\n",
    "        data[col] = data[col].replace({k:i for i , k in enumerate(df[col].unique())}) "
   ]
  },
  {
   "cell_type": "code",
   "execution_count": null,
   "id": "40146127-e5f2-47c0-9f3f-cf7559e23ffb",
   "metadata": {},
   "outputs": [],
   "source": []
  },
  {
   "cell_type": "code",
   "execution_count": 152,
   "id": "a3412229",
   "metadata": {
    "scrolled": true
   },
   "outputs": [],
   "source": [
    "data[\"month\"] = data[\"month\"].replace({k : i for i , k in enumerate(data[\"month\"].unique())})\n",
    "data[\"day_of_week\"] = data[\"day_of_week\"].replace({k : i for i , k in enumerate(data[\"day_of_week\"].unique())})"
   ]
  },
  {
   "cell_type": "code",
   "execution_count": 153,
   "id": "3c4a60e4",
   "metadata": {},
   "outputs": [
    {
     "data": {
      "text/plain": [
       "education\n",
       "university.degree      11901\n",
       "high.school             7905\n",
       "professional.course     4438\n",
       "basic.9y                4418\n",
       "basic.4y                2477\n",
       "basic.6y                1441\n",
       "illiterate                11\n",
       "Name: count, dtype: int64"
      ]
     },
     "execution_count": 153,
     "metadata": {},
     "output_type": "execute_result"
    }
   ],
   "source": [
    "data[\"education\"].value_counts()"
   ]
  },
  {
   "cell_type": "code",
   "execution_count": 154,
   "id": "fd6be6c7",
   "metadata": {},
   "outputs": [
    {
     "ename": "SyntaxError",
     "evalue": "invalid decimal literal (3565604274.py, line 12)",
     "output_type": "error",
     "traceback": [
      "\u001b[0;36m  Cell \u001b[0;32mIn[154], line 12\u001b[0;36m\u001b[0m\n\u001b[0;31m    basic.9y                4418\u001b[0m\n\u001b[0m          ^\u001b[0m\n\u001b[0;31mSyntaxError\u001b[0m\u001b[0;31m:\u001b[0m invalid decimal literal\n"
     ]
    }
   ],
   "source": [
    "its better to ask chatgpt to make it for u if u dont know like \n",
    "what is the highest degree and what is the lowest degree \n",
    "\n",
    "that the promet that i used \n",
    "give me a dict for this data with value from 0 - to len of them \n",
    "and make it based on what is the better give it max number and the lowest give it 0 \n",
    "\n",
    "education\n",
    "university.degree      11901\n",
    "high.school             7905\n",
    "professional.course     4438\n",
    "basic.9y                4418\n",
    "basic.4y                2477\n",
    "basic.6y                1441\n",
    "illiterate                11"
   ]
  },
  {
   "cell_type": "code",
   "execution_count": 155,
   "id": "7d96e88a",
   "metadata": {},
   "outputs": [],
   "source": [
    "# the result was \n",
    "\n",
    "degrees = {\n",
    "    \"university.degree\": 6, \n",
    "    \"high.school\": 5,\n",
    "    \"professional.course\": 4,\n",
    "    \"basic.9y\": 3,\n",
    "    \"basic.4y\": 2,\n",
    "    \"basic.6y\": 1,\n",
    "    \"illiterate\": 0 \n",
    "}\n"
   ]
  },
  {
   "cell_type": "code",
   "execution_count": 156,
   "id": "c0bfebbe-2220-4f29-a769-c9dc65c8400d",
   "metadata": {},
   "outputs": [],
   "source": [
    "data[\"education\"] = data[\"education\"].replace(degrees)"
   ]
  },
  {
   "cell_type": "code",
   "execution_count": 157,
   "id": "db77cb57",
   "metadata": {},
   "outputs": [],
   "source": [
    "data = data.join(pd.get_dummies(data[\"poutcome\"]).iloc[:,1:]) # cause its 3 columns so we dont need the third\n",
    "data = data.join(pd.get_dummies(data[\"marital\"]).iloc[:,1:]) # cause its 3 columns so we dont need the third\n",
    "data = data.join(pd.get_dummies(data[\"job\"]).iloc[:,1:]) # i dont know how many columns but u know \n",
    "\n",
    "data = data.drop([\"poutcome\" , \"marital\" , \"job\"] , axis = 1)"
   ]
  },
  {
   "cell_type": "code",
   "execution_count": 158,
   "id": "563737f6",
   "metadata": {},
   "outputs": [
    {
     "data": {
      "text/plain": [
       "job\n",
       "admin.           9307\n",
       "blue-collar      6088\n",
       "technician       5767\n",
       "services         3053\n",
       "management       2466\n",
       "retired          1327\n",
       "entrepreneur     1155\n",
       "self-employed    1139\n",
       "unemployed        777\n",
       "student           771\n",
       "housemaid         741\n",
       "Name: count, dtype: int64"
      ]
     },
     "execution_count": 158,
     "metadata": {},
     "output_type": "execute_result"
    }
   ],
   "source": [
    "df[\"job\"].value_counts()"
   ]
  },
  {
   "cell_type": "code",
   "execution_count": 159,
   "id": "805702ee",
   "metadata": {},
   "outputs": [
    {
     "data": {
      "text/html": [
       "<div>\n",
       "<style scoped>\n",
       "    .dataframe tbody tr th:only-of-type {\n",
       "        vertical-align: middle;\n",
       "    }\n",
       "\n",
       "    .dataframe tbody tr th {\n",
       "        vertical-align: top;\n",
       "    }\n",
       "\n",
       "    .dataframe thead th {\n",
       "        text-align: right;\n",
       "    }\n",
       "</style>\n",
       "<table border=\"1\" class=\"dataframe\">\n",
       "  <thead>\n",
       "    <tr style=\"text-align: right;\">\n",
       "      <th></th>\n",
       "      <th>age</th>\n",
       "      <th>education</th>\n",
       "      <th>default</th>\n",
       "      <th>housing</th>\n",
       "      <th>loan</th>\n",
       "      <th>contact</th>\n",
       "      <th>month</th>\n",
       "      <th>day_of_week</th>\n",
       "      <th>duration</th>\n",
       "      <th>campaign</th>\n",
       "      <th>...</th>\n",
       "      <th>blue-collar</th>\n",
       "      <th>entrepreneur</th>\n",
       "      <th>housemaid</th>\n",
       "      <th>management</th>\n",
       "      <th>retired</th>\n",
       "      <th>self-employed</th>\n",
       "      <th>services</th>\n",
       "      <th>student</th>\n",
       "      <th>technician</th>\n",
       "      <th>unemployed</th>\n",
       "    </tr>\n",
       "  </thead>\n",
       "  <tbody>\n",
       "    <tr>\n",
       "      <th>0</th>\n",
       "      <td>56</td>\n",
       "      <td>2</td>\n",
       "      <td>0</td>\n",
       "      <td>0</td>\n",
       "      <td>0</td>\n",
       "      <td>0</td>\n",
       "      <td>0</td>\n",
       "      <td>0</td>\n",
       "      <td>261</td>\n",
       "      <td>1</td>\n",
       "      <td>...</td>\n",
       "      <td>False</td>\n",
       "      <td>False</td>\n",
       "      <td>True</td>\n",
       "      <td>False</td>\n",
       "      <td>False</td>\n",
       "      <td>False</td>\n",
       "      <td>False</td>\n",
       "      <td>False</td>\n",
       "      <td>False</td>\n",
       "      <td>False</td>\n",
       "    </tr>\n",
       "    <tr>\n",
       "      <th>2</th>\n",
       "      <td>37</td>\n",
       "      <td>5</td>\n",
       "      <td>0</td>\n",
       "      <td>1</td>\n",
       "      <td>0</td>\n",
       "      <td>0</td>\n",
       "      <td>0</td>\n",
       "      <td>0</td>\n",
       "      <td>226</td>\n",
       "      <td>1</td>\n",
       "      <td>...</td>\n",
       "      <td>False</td>\n",
       "      <td>False</td>\n",
       "      <td>False</td>\n",
       "      <td>False</td>\n",
       "      <td>False</td>\n",
       "      <td>False</td>\n",
       "      <td>True</td>\n",
       "      <td>False</td>\n",
       "      <td>False</td>\n",
       "      <td>False</td>\n",
       "    </tr>\n",
       "    <tr>\n",
       "      <th>3</th>\n",
       "      <td>40</td>\n",
       "      <td>1</td>\n",
       "      <td>0</td>\n",
       "      <td>0</td>\n",
       "      <td>0</td>\n",
       "      <td>0</td>\n",
       "      <td>0</td>\n",
       "      <td>0</td>\n",
       "      <td>151</td>\n",
       "      <td>1</td>\n",
       "      <td>...</td>\n",
       "      <td>False</td>\n",
       "      <td>False</td>\n",
       "      <td>False</td>\n",
       "      <td>False</td>\n",
       "      <td>False</td>\n",
       "      <td>False</td>\n",
       "      <td>False</td>\n",
       "      <td>False</td>\n",
       "      <td>False</td>\n",
       "      <td>False</td>\n",
       "    </tr>\n",
       "    <tr>\n",
       "      <th>4</th>\n",
       "      <td>56</td>\n",
       "      <td>5</td>\n",
       "      <td>0</td>\n",
       "      <td>0</td>\n",
       "      <td>1</td>\n",
       "      <td>0</td>\n",
       "      <td>0</td>\n",
       "      <td>0</td>\n",
       "      <td>307</td>\n",
       "      <td>1</td>\n",
       "      <td>...</td>\n",
       "      <td>False</td>\n",
       "      <td>False</td>\n",
       "      <td>False</td>\n",
       "      <td>False</td>\n",
       "      <td>False</td>\n",
       "      <td>False</td>\n",
       "      <td>True</td>\n",
       "      <td>False</td>\n",
       "      <td>False</td>\n",
       "      <td>False</td>\n",
       "    </tr>\n",
       "    <tr>\n",
       "      <th>6</th>\n",
       "      <td>59</td>\n",
       "      <td>4</td>\n",
       "      <td>0</td>\n",
       "      <td>0</td>\n",
       "      <td>0</td>\n",
       "      <td>0</td>\n",
       "      <td>0</td>\n",
       "      <td>0</td>\n",
       "      <td>139</td>\n",
       "      <td>1</td>\n",
       "      <td>...</td>\n",
       "      <td>False</td>\n",
       "      <td>False</td>\n",
       "      <td>False</td>\n",
       "      <td>False</td>\n",
       "      <td>False</td>\n",
       "      <td>False</td>\n",
       "      <td>False</td>\n",
       "      <td>False</td>\n",
       "      <td>False</td>\n",
       "      <td>False</td>\n",
       "    </tr>\n",
       "    <tr>\n",
       "      <th>...</th>\n",
       "      <td>...</td>\n",
       "      <td>...</td>\n",
       "      <td>...</td>\n",
       "      <td>...</td>\n",
       "      <td>...</td>\n",
       "      <td>...</td>\n",
       "      <td>...</td>\n",
       "      <td>...</td>\n",
       "      <td>...</td>\n",
       "      <td>...</td>\n",
       "      <td>...</td>\n",
       "      <td>...</td>\n",
       "      <td>...</td>\n",
       "      <td>...</td>\n",
       "      <td>...</td>\n",
       "      <td>...</td>\n",
       "      <td>...</td>\n",
       "      <td>...</td>\n",
       "      <td>...</td>\n",
       "      <td>...</td>\n",
       "      <td>...</td>\n",
       "    </tr>\n",
       "    <tr>\n",
       "      <th>41183</th>\n",
       "      <td>73</td>\n",
       "      <td>4</td>\n",
       "      <td>0</td>\n",
       "      <td>1</td>\n",
       "      <td>0</td>\n",
       "      <td>1</td>\n",
       "      <td>5</td>\n",
       "      <td>4</td>\n",
       "      <td>334</td>\n",
       "      <td>1</td>\n",
       "      <td>...</td>\n",
       "      <td>False</td>\n",
       "      <td>False</td>\n",
       "      <td>False</td>\n",
       "      <td>False</td>\n",
       "      <td>True</td>\n",
       "      <td>False</td>\n",
       "      <td>False</td>\n",
       "      <td>False</td>\n",
       "      <td>False</td>\n",
       "      <td>False</td>\n",
       "    </tr>\n",
       "    <tr>\n",
       "      <th>41184</th>\n",
       "      <td>46</td>\n",
       "      <td>4</td>\n",
       "      <td>0</td>\n",
       "      <td>0</td>\n",
       "      <td>0</td>\n",
       "      <td>1</td>\n",
       "      <td>5</td>\n",
       "      <td>4</td>\n",
       "      <td>383</td>\n",
       "      <td>1</td>\n",
       "      <td>...</td>\n",
       "      <td>True</td>\n",
       "      <td>False</td>\n",
       "      <td>False</td>\n",
       "      <td>False</td>\n",
       "      <td>False</td>\n",
       "      <td>False</td>\n",
       "      <td>False</td>\n",
       "      <td>False</td>\n",
       "      <td>False</td>\n",
       "      <td>False</td>\n",
       "    </tr>\n",
       "    <tr>\n",
       "      <th>41185</th>\n",
       "      <td>56</td>\n",
       "      <td>6</td>\n",
       "      <td>0</td>\n",
       "      <td>1</td>\n",
       "      <td>0</td>\n",
       "      <td>1</td>\n",
       "      <td>5</td>\n",
       "      <td>4</td>\n",
       "      <td>189</td>\n",
       "      <td>2</td>\n",
       "      <td>...</td>\n",
       "      <td>False</td>\n",
       "      <td>False</td>\n",
       "      <td>False</td>\n",
       "      <td>False</td>\n",
       "      <td>True</td>\n",
       "      <td>False</td>\n",
       "      <td>False</td>\n",
       "      <td>False</td>\n",
       "      <td>False</td>\n",
       "      <td>False</td>\n",
       "    </tr>\n",
       "    <tr>\n",
       "      <th>41186</th>\n",
       "      <td>44</td>\n",
       "      <td>4</td>\n",
       "      <td>0</td>\n",
       "      <td>0</td>\n",
       "      <td>0</td>\n",
       "      <td>1</td>\n",
       "      <td>5</td>\n",
       "      <td>4</td>\n",
       "      <td>442</td>\n",
       "      <td>1</td>\n",
       "      <td>...</td>\n",
       "      <td>False</td>\n",
       "      <td>False</td>\n",
       "      <td>False</td>\n",
       "      <td>False</td>\n",
       "      <td>False</td>\n",
       "      <td>False</td>\n",
       "      <td>False</td>\n",
       "      <td>False</td>\n",
       "      <td>True</td>\n",
       "      <td>False</td>\n",
       "    </tr>\n",
       "    <tr>\n",
       "      <th>41187</th>\n",
       "      <td>74</td>\n",
       "      <td>4</td>\n",
       "      <td>0</td>\n",
       "      <td>1</td>\n",
       "      <td>0</td>\n",
       "      <td>1</td>\n",
       "      <td>5</td>\n",
       "      <td>4</td>\n",
       "      <td>239</td>\n",
       "      <td>3</td>\n",
       "      <td>...</td>\n",
       "      <td>False</td>\n",
       "      <td>False</td>\n",
       "      <td>False</td>\n",
       "      <td>False</td>\n",
       "      <td>True</td>\n",
       "      <td>False</td>\n",
       "      <td>False</td>\n",
       "      <td>False</td>\n",
       "      <td>False</td>\n",
       "      <td>False</td>\n",
       "    </tr>\n",
       "  </tbody>\n",
       "</table>\n",
       "<p>32591 rows × 32 columns</p>\n",
       "</div>"
      ],
      "text/plain": [
       "       age  education  default  housing  loan  contact  month  day_of_week  \\\n",
       "0       56          2        0        0     0        0      0            0   \n",
       "2       37          5        0        1     0        0      0            0   \n",
       "3       40          1        0        0     0        0      0            0   \n",
       "4       56          5        0        0     1        0      0            0   \n",
       "6       59          4        0        0     0        0      0            0   \n",
       "...    ...        ...      ...      ...   ...      ...    ...          ...   \n",
       "41183   73          4        0        1     0        1      5            4   \n",
       "41184   46          4        0        0     0        1      5            4   \n",
       "41185   56          6        0        1     0        1      5            4   \n",
       "41186   44          4        0        0     0        1      5            4   \n",
       "41187   74          4        0        1     0        1      5            4   \n",
       "\n",
       "       duration  campaign  ...  blue-collar  entrepreneur  housemaid  \\\n",
       "0           261         1  ...        False         False       True   \n",
       "2           226         1  ...        False         False      False   \n",
       "3           151         1  ...        False         False      False   \n",
       "4           307         1  ...        False         False      False   \n",
       "6           139         1  ...        False         False      False   \n",
       "...         ...       ...  ...          ...           ...        ...   \n",
       "41183       334         1  ...        False         False      False   \n",
       "41184       383         1  ...         True         False      False   \n",
       "41185       189         2  ...        False         False      False   \n",
       "41186       442         1  ...        False         False      False   \n",
       "41187       239         3  ...        False         False      False   \n",
       "\n",
       "       management  retired  self-employed  services  student  technician  \\\n",
       "0           False    False          False     False    False       False   \n",
       "2           False    False          False      True    False       False   \n",
       "3           False    False          False     False    False       False   \n",
       "4           False    False          False      True    False       False   \n",
       "6           False    False          False     False    False       False   \n",
       "...           ...      ...            ...       ...      ...         ...   \n",
       "41183       False     True          False     False    False       False   \n",
       "41184       False    False          False     False    False       False   \n",
       "41185       False     True          False     False    False       False   \n",
       "41186       False    False          False     False    False        True   \n",
       "41187       False     True          False     False    False       False   \n",
       "\n",
       "       unemployed  \n",
       "0           False  \n",
       "2           False  \n",
       "3           False  \n",
       "4           False  \n",
       "6           False  \n",
       "...           ...  \n",
       "41183       False  \n",
       "41184       False  \n",
       "41185       False  \n",
       "41186       False  \n",
       "41187       False  \n",
       "\n",
       "[32591 rows x 32 columns]"
      ]
     },
     "execution_count": 159,
     "metadata": {},
     "output_type": "execute_result"
    }
   ],
   "source": [
    "data"
   ]
  },
  {
   "cell_type": "code",
   "execution_count": null,
   "id": "751d15c7",
   "metadata": {},
   "outputs": [],
   "source": []
  },
  {
   "cell_type": "code",
   "execution_count": null,
   "id": "d96b4ca0",
   "metadata": {},
   "outputs": [],
   "source": []
  },
  {
   "cell_type": "code",
   "execution_count": null,
   "id": "f7cc7396",
   "metadata": {},
   "outputs": [],
   "source": []
  },
  {
   "cell_type": "code",
   "execution_count": null,
   "id": "d256f016",
   "metadata": {},
   "outputs": [],
   "source": []
  },
  {
   "cell_type": "code",
   "execution_count": null,
   "id": "9a27092d",
   "metadata": {},
   "outputs": [],
   "source": []
  }
 ],
 "metadata": {
  "kernelspec": {
   "display_name": "Python 3 (ipykernel)",
   "language": "python",
   "name": "python3"
  },
  "language_info": {
   "codemirror_mode": {
    "name": "ipython",
    "version": 3
   },
   "file_extension": ".py",
   "mimetype": "text/x-python",
   "name": "python",
   "nbconvert_exporter": "python",
   "pygments_lexer": "ipython3",
   "version": "3.11.5"
  }
 },
 "nbformat": 4,
 "nbformat_minor": 5
}
